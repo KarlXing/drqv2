{
  "cells": [
    {
      "cell_type": "markdown",
      "metadata": {
        "id": "view-in-github",
        "colab_type": "text"
      },
      "source": [
        "<a href=\"https://colab.research.google.com/github/KarlXing/drqv2/blob/eval/mujoco_eval.ipynb\" target=\"_parent\"><img src=\"https://colab.research.google.com/assets/colab-badge.svg\" alt=\"Open In Colab\"/></a>"
      ]
    },
    {
      "cell_type": "code",
      "execution_count": 1,
      "metadata": {
        "id": "s7PPg0VZG5cK",
        "outputId": "b078e6f6-e410-4d2e-e20f-6b499aa382bc",
        "colab": {
          "base_uri": "https://localhost:8080/"
        }
      },
      "outputs": [
        {
          "output_type": "stream",
          "name": "stdout",
          "text": [
            "Reading package lists... Done\n",
            "Building dependency tree       \n",
            "Reading state information... Done\n",
            "libgl1-mesa-dev is already the newest version (20.0.8-0ubuntu1~18.04.1).\n",
            "libgl1-mesa-dev set to manually installed.\n",
            "software-properties-common is already the newest version (0.96.24.32.18).\n",
            "Suggested packages:\n",
            "  glew-utils\n",
            "The following NEW packages will be installed:\n",
            "  libgl1-mesa-glx libglew-dev libglew2.0 libosmesa6 libosmesa6-dev\n",
            "0 upgraded, 5 newly installed, 0 to remove and 39 not upgraded.\n",
            "Need to get 2,916 kB of archives.\n",
            "After this operation, 12.6 MB of additional disk space will be used.\n",
            "Get:1 http://archive.ubuntu.com/ubuntu bionic-updates/main amd64 libgl1-mesa-glx amd64 20.0.8-0ubuntu1~18.04.1 [5,532 B]\n",
            "Get:2 http://archive.ubuntu.com/ubuntu bionic/universe amd64 libglew2.0 amd64 2.0.0-5 [140 kB]\n",
            "Get:3 http://archive.ubuntu.com/ubuntu bionic/universe amd64 libglew-dev amd64 2.0.0-5 [120 kB]\n",
            "Get:4 http://archive.ubuntu.com/ubuntu bionic-updates/main amd64 libosmesa6 amd64 20.0.8-0ubuntu1~18.04.1 [2,641 kB]\n",
            "Get:5 http://archive.ubuntu.com/ubuntu bionic-updates/main amd64 libosmesa6-dev amd64 20.0.8-0ubuntu1~18.04.1 [8,828 B]\n",
            "Fetched 2,916 kB in 1s (2,464 kB/s)\n",
            "Selecting previously unselected package libgl1-mesa-glx:amd64.\n",
            "(Reading database ... 155335 files and directories currently installed.)\n",
            "Preparing to unpack .../libgl1-mesa-glx_20.0.8-0ubuntu1~18.04.1_amd64.deb ...\n",
            "Unpacking libgl1-mesa-glx:amd64 (20.0.8-0ubuntu1~18.04.1) ...\n",
            "Selecting previously unselected package libglew2.0:amd64.\n",
            "Preparing to unpack .../libglew2.0_2.0.0-5_amd64.deb ...\n",
            "Unpacking libglew2.0:amd64 (2.0.0-5) ...\n",
            "Selecting previously unselected package libglew-dev:amd64.\n",
            "Preparing to unpack .../libglew-dev_2.0.0-5_amd64.deb ...\n",
            "Unpacking libglew-dev:amd64 (2.0.0-5) ...\n",
            "Selecting previously unselected package libosmesa6:amd64.\n",
            "Preparing to unpack .../libosmesa6_20.0.8-0ubuntu1~18.04.1_amd64.deb ...\n",
            "Unpacking libosmesa6:amd64 (20.0.8-0ubuntu1~18.04.1) ...\n",
            "Selecting previously unselected package libosmesa6-dev:amd64.\n",
            "Preparing to unpack .../libosmesa6-dev_20.0.8-0ubuntu1~18.04.1_amd64.deb ...\n",
            "Unpacking libosmesa6-dev:amd64 (20.0.8-0ubuntu1~18.04.1) ...\n",
            "Setting up libosmesa6:amd64 (20.0.8-0ubuntu1~18.04.1) ...\n",
            "Setting up libgl1-mesa-glx:amd64 (20.0.8-0ubuntu1~18.04.1) ...\n",
            "Setting up libglew2.0:amd64 (2.0.0-5) ...\n",
            "Setting up libglew-dev:amd64 (2.0.0-5) ...\n",
            "Setting up libosmesa6-dev:amd64 (20.0.8-0ubuntu1~18.04.1) ...\n",
            "Processing triggers for libc-bin (2.27-3ubuntu1.3) ...\n",
            "/sbin/ldconfig.real: /usr/local/lib/python3.7/dist-packages/ideep4py/lib/libmkldnn.so.0 is not a symbolic link\n",
            "\n",
            "Reading package lists... Done\n",
            "Building dependency tree       \n",
            "Reading state information... Done\n",
            "The following NEW packages will be installed:\n",
            "  patchelf\n",
            "0 upgraded, 1 newly installed, 0 to remove and 39 not upgraded.\n",
            "Need to get 46.5 kB of archives.\n",
            "After this operation, 130 kB of additional disk space will be used.\n",
            "Get:1 http://archive.ubuntu.com/ubuntu bionic/universe amd64 patchelf amd64 0.9-1 [46.5 kB]\n",
            "Fetched 46.5 kB in 0s (104 kB/s)\n",
            "Selecting previously unselected package patchelf.\n",
            "(Reading database ... 155373 files and directories currently installed.)\n",
            "Preparing to unpack .../patchelf_0.9-1_amd64.deb ...\n",
            "Unpacking patchelf (0.9-1) ...\n",
            "Setting up patchelf (0.9-1) ...\n",
            "Processing triggers for man-db (2.8.3-2ubuntu0.1) ...\n"
          ]
        }
      ],
      "source": [
        "!apt-get install -y \\\n",
        "    libgl1-mesa-dev \\\n",
        "    libgl1-mesa-glx \\\n",
        "    libglew-dev \\\n",
        "    libosmesa6-dev \\\n",
        "    software-properties-common\n",
        "\n",
        "!apt-get install -y patchelf"
      ]
    },
    {
      "cell_type": "code",
      "execution_count": 2,
      "metadata": {
        "id": "5w7tslZCHl0T",
        "outputId": "2bb1603d-3cae-4e5f-8aef-539329f3f65e",
        "colab": {
          "base_uri": "https://localhost:8080/"
        }
      },
      "outputs": [
        {
          "output_type": "stream",
          "name": "stdout",
          "text": [
            "Requirement already satisfied: gym in /usr/local/lib/python3.7/dist-packages (0.17.3)\n",
            "Requirement already satisfied: scipy in /usr/local/lib/python3.7/dist-packages (from gym) (1.4.1)\n",
            "Requirement already satisfied: numpy>=1.10.4 in /usr/local/lib/python3.7/dist-packages (from gym) (1.21.5)\n",
            "Requirement already satisfied: pyglet<=1.5.0,>=1.4.0 in /usr/local/lib/python3.7/dist-packages (from gym) (1.5.0)\n",
            "Requirement already satisfied: cloudpickle<1.7.0,>=1.2.0 in /usr/local/lib/python3.7/dist-packages (from gym) (1.3.0)\n",
            "Requirement already satisfied: future in /usr/local/lib/python3.7/dist-packages (from pyglet<=1.5.0,>=1.4.0->gym) (0.16.0)\n"
          ]
        }
      ],
      "source": [
        "!pip install gym"
      ]
    },
    {
      "cell_type": "code",
      "execution_count": 3,
      "metadata": {
        "id": "3qeAEFtTG8dV",
        "outputId": "196e377d-515c-41bf-b87c-79902a77fb3f",
        "colab": {
          "base_uri": "https://localhost:8080/",
          "height": 712
        }
      },
      "outputs": [
        {
          "output_type": "stream",
          "name": "stdout",
          "text": [
            "Collecting free-mujoco-py\n",
            "  Downloading free_mujoco_py-2.1.6-py3-none-any.whl (14.1 MB)\n",
            "\u001b[K     |████████████████████████████████| 14.1 MB 5.5 MB/s \n",
            "\u001b[?25hRequirement already satisfied: numpy<2.0.0,>=1.21.3 in /usr/local/lib/python3.7/dist-packages (from free-mujoco-py) (1.21.5)\n",
            "Requirement already satisfied: cffi<2.0.0,>=1.15.0 in /usr/local/lib/python3.7/dist-packages (from free-mujoco-py) (1.15.0)\n",
            "Requirement already satisfied: Cython<0.30.0,>=0.29.24 in /usr/local/lib/python3.7/dist-packages (from free-mujoco-py) (0.29.28)\n",
            "Collecting glfw<2.0.0,>=1.4.0\n",
            "  Downloading glfw-1.12.0-py2.py27.py3.py30.py31.py32.py33.py34.py35.py36.py37.py38-none-manylinux2014_x86_64.whl (203 kB)\n",
            "\u001b[K     |████████████████████████████████| 203 kB 23.2 MB/s \n",
            "\u001b[?25hCollecting imageio<3.0.0,>=2.9.0\n",
            "  Downloading imageio-2.16.1-py3-none-any.whl (3.3 MB)\n",
            "\u001b[K     |████████████████████████████████| 3.3 MB 20.3 MB/s \n",
            "\u001b[?25hCollecting fasteners==0.15\n",
            "  Downloading fasteners-0.15-py2.py3-none-any.whl (23 kB)\n",
            "Requirement already satisfied: six in /usr/local/lib/python3.7/dist-packages (from fasteners==0.15->free-mujoco-py) (1.15.0)\n",
            "Collecting monotonic>=0.1\n",
            "  Downloading monotonic-1.6-py2.py3-none-any.whl (8.2 kB)\n",
            "Requirement already satisfied: pycparser in /usr/local/lib/python3.7/dist-packages (from cffi<2.0.0,>=1.15.0->free-mujoco-py) (2.21)\n",
            "Collecting pillow>=8.3.2\n",
            "  Downloading Pillow-9.0.1-cp37-cp37m-manylinux_2_17_x86_64.manylinux2014_x86_64.whl (4.3 MB)\n",
            "\u001b[K     |████████████████████████████████| 4.3 MB 22.8 MB/s \n",
            "\u001b[?25hInstalling collected packages: pillow, monotonic, imageio, glfw, fasteners, free-mujoco-py\n",
            "  Attempting uninstall: pillow\n",
            "    Found existing installation: Pillow 7.1.2\n",
            "    Uninstalling Pillow-7.1.2:\n",
            "      Successfully uninstalled Pillow-7.1.2\n",
            "  Attempting uninstall: imageio\n",
            "    Found existing installation: imageio 2.4.1\n",
            "    Uninstalling imageio-2.4.1:\n",
            "      Successfully uninstalled imageio-2.4.1\n",
            "\u001b[31mERROR: pip's dependency resolver does not currently take into account all the packages that are installed. This behaviour is the source of the following dependency conflicts.\n",
            "albumentations 0.1.12 requires imgaug<0.2.7,>=0.2.5, but you have imgaug 0.2.9 which is incompatible.\u001b[0m\n",
            "Successfully installed fasteners-0.15 free-mujoco-py-2.1.6 glfw-1.12.0 imageio-2.16.1 monotonic-1.6 pillow-9.0.1\n"
          ]
        },
        {
          "output_type": "display_data",
          "data": {
            "application/vnd.colab-display-data+json": {
              "pip_warning": {
                "packages": [
                  "PIL"
                ]
              }
            }
          },
          "metadata": {}
        }
      ],
      "source": [
        "!pip install free-mujoco-py"
      ]
    },
    {
      "cell_type": "code",
      "source": [
        "import torch\n",
        "torch.__version__"
      ],
      "metadata": {
        "id": "1ooR4NVCM7dR",
        "outputId": "4d79b352-81fa-410d-9fdd-968bd1a82e08",
        "colab": {
          "base_uri": "https://localhost:8080/",
          "height": 36
        }
      },
      "execution_count": 6,
      "outputs": [
        {
          "output_type": "execute_result",
          "data": {
            "text/plain": [
              "'1.10.0+cu111'"
            ],
            "application/vnd.google.colaboratory.intrinsic+json": {
              "type": "string"
            }
          },
          "metadata": {},
          "execution_count": 6
        }
      ]
    },
    {
      "cell_type": "markdown",
      "metadata": {
        "id": "MHtnurnyIwaZ"
      },
      "source": [
        "**Now you need to restart the runtime as numpy is apparently automatically imported...**"
      ]
    },
    {
      "cell_type": "code",
      "execution_count": 4,
      "metadata": {
        "id": "TtWrmOCKHD6I",
        "outputId": "0ff07c3b-8719-48f0-a395-33b82afa5bb2",
        "colab": {
          "base_uri": "https://localhost:8080/"
        }
      },
      "outputs": [
        {
          "output_type": "stream",
          "name": "stdout",
          "text": [
            "Compiling /usr/local/lib/python3.7/dist-packages/mujoco_py/cymj.pyx because it changed.\n",
            "[1/1] Cythonizing /usr/local/lib/python3.7/dist-packages/mujoco_py/cymj.pyx\n",
            "running build_ext\n",
            "building 'mujoco_py.cymj' extension\n",
            "creating /usr/local/lib/python3.7/dist-packages/mujoco_py/generated/_pyxbld_2.0.2.13_37_linuxcpuextensionbuilder\n",
            "creating /usr/local/lib/python3.7/dist-packages/mujoco_py/generated/_pyxbld_2.0.2.13_37_linuxcpuextensionbuilder/temp.linux-x86_64-3.7\n",
            "creating /usr/local/lib/python3.7/dist-packages/mujoco_py/generated/_pyxbld_2.0.2.13_37_linuxcpuextensionbuilder/temp.linux-x86_64-3.7/usr\n",
            "creating /usr/local/lib/python3.7/dist-packages/mujoco_py/generated/_pyxbld_2.0.2.13_37_linuxcpuextensionbuilder/temp.linux-x86_64-3.7/usr/local\n",
            "creating /usr/local/lib/python3.7/dist-packages/mujoco_py/generated/_pyxbld_2.0.2.13_37_linuxcpuextensionbuilder/temp.linux-x86_64-3.7/usr/local/lib\n",
            "creating /usr/local/lib/python3.7/dist-packages/mujoco_py/generated/_pyxbld_2.0.2.13_37_linuxcpuextensionbuilder/temp.linux-x86_64-3.7/usr/local/lib/python3.7\n",
            "creating /usr/local/lib/python3.7/dist-packages/mujoco_py/generated/_pyxbld_2.0.2.13_37_linuxcpuextensionbuilder/temp.linux-x86_64-3.7/usr/local/lib/python3.7/dist-packages\n",
            "creating /usr/local/lib/python3.7/dist-packages/mujoco_py/generated/_pyxbld_2.0.2.13_37_linuxcpuextensionbuilder/temp.linux-x86_64-3.7/usr/local/lib/python3.7/dist-packages/mujoco_py\n",
            "creating /usr/local/lib/python3.7/dist-packages/mujoco_py/generated/_pyxbld_2.0.2.13_37_linuxcpuextensionbuilder/temp.linux-x86_64-3.7/usr/local/lib/python3.7/dist-packages/mujoco_py/gl\n",
            "x86_64-linux-gnu-gcc -pthread -Wno-unused-result -Wsign-compare -DNDEBUG -g -fwrapv -O2 -Wall -g -fdebug-prefix-map=/build/python3.7-pX47U3/python3.7-3.7.12=. -fstack-protector-strong -Wformat -Werror=format-security -g -fdebug-prefix-map=/build/python3.7-pX47U3/python3.7-3.7.12=. -fstack-protector-strong -Wformat -Werror=format-security -Wdate-time -D_FORTIFY_SOURCE=2 -fPIC -I/usr/local/lib/python3.7/dist-packages/mujoco_py -I/usr/local/lib/python3.7/dist-packages/mujoco_py/binaries/linux/mujoco210/include -I/usr/local/lib/python3.7/dist-packages/numpy/core/include -I/usr/include/python3.7m -c /usr/local/lib/python3.7/dist-packages/mujoco_py/cymj.c -o /usr/local/lib/python3.7/dist-packages/mujoco_py/generated/_pyxbld_2.0.2.13_37_linuxcpuextensionbuilder/temp.linux-x86_64-3.7/usr/local/lib/python3.7/dist-packages/mujoco_py/cymj.o -fopenmp -w\n",
            "x86_64-linux-gnu-gcc -pthread -Wno-unused-result -Wsign-compare -DNDEBUG -g -fwrapv -O2 -Wall -g -fdebug-prefix-map=/build/python3.7-pX47U3/python3.7-3.7.12=. -fstack-protector-strong -Wformat -Werror=format-security -g -fdebug-prefix-map=/build/python3.7-pX47U3/python3.7-3.7.12=. -fstack-protector-strong -Wformat -Werror=format-security -Wdate-time -D_FORTIFY_SOURCE=2 -fPIC -I/usr/local/lib/python3.7/dist-packages/mujoco_py -I/usr/local/lib/python3.7/dist-packages/mujoco_py/binaries/linux/mujoco210/include -I/usr/local/lib/python3.7/dist-packages/numpy/core/include -I/usr/include/python3.7m -c /usr/local/lib/python3.7/dist-packages/mujoco_py/gl/osmesashim.c -o /usr/local/lib/python3.7/dist-packages/mujoco_py/generated/_pyxbld_2.0.2.13_37_linuxcpuextensionbuilder/temp.linux-x86_64-3.7/usr/local/lib/python3.7/dist-packages/mujoco_py/gl/osmesashim.o -fopenmp -w\n",
            "creating /usr/local/lib/python3.7/dist-packages/mujoco_py/generated/_pyxbld_2.0.2.13_37_linuxcpuextensionbuilder/lib.linux-x86_64-3.7\n",
            "creating /usr/local/lib/python3.7/dist-packages/mujoco_py/generated/_pyxbld_2.0.2.13_37_linuxcpuextensionbuilder/lib.linux-x86_64-3.7/mujoco_py\n",
            "x86_64-linux-gnu-gcc -pthread -shared -Wl,-O1 -Wl,-Bsymbolic-functions -Wl,-Bsymbolic-functions -Wl,-z,relro -Wl,-Bsymbolic-functions -Wl,-z,relro -g -fdebug-prefix-map=/build/python3.7-pX47U3/python3.7-3.7.12=. -fstack-protector-strong -Wformat -Werror=format-security -Wdate-time -D_FORTIFY_SOURCE=2 /usr/local/lib/python3.7/dist-packages/mujoco_py/generated/_pyxbld_2.0.2.13_37_linuxcpuextensionbuilder/temp.linux-x86_64-3.7/usr/local/lib/python3.7/dist-packages/mujoco_py/cymj.o /usr/local/lib/python3.7/dist-packages/mujoco_py/generated/_pyxbld_2.0.2.13_37_linuxcpuextensionbuilder/temp.linux-x86_64-3.7/usr/local/lib/python3.7/dist-packages/mujoco_py/gl/osmesashim.o -L/usr/local/lib/python3.7/dist-packages/mujoco_py/binaries/linux/mujoco210/bin -Wl,--enable-new-dtags,-R/usr/local/lib/python3.7/dist-packages/mujoco_py/binaries/linux/mujoco210/bin -lmujoco210 -lglewosmesa -lOSMesa -lGL -o /usr/local/lib/python3.7/dist-packages/mujoco_py/generated/_pyxbld_2.0.2.13_37_linuxcpuextensionbuilder/lib.linux-x86_64-3.7/mujoco_py/cymj.cpython-37m-x86_64-linux-gnu.so -fopenmp\n"
          ]
        }
      ],
      "source": [
        "import mujoco_py\n",
        "import gym"
      ]
    },
    {
      "cell_type": "code",
      "source": [
        ""
      ],
      "metadata": {
        "id": "JCN7oSkSNQaw"
      },
      "execution_count": null,
      "outputs": []
    },
    {
      "cell_type": "code",
      "execution_count": null,
      "metadata": {
        "id": "0zibrUFrHI50"
      },
      "outputs": [],
      "source": [
        "env = gym.make(\"HalfCheetah-v2\")\n",
        "\n",
        "print(env.reset().shape)"
      ]
    },
    {
      "cell_type": "code",
      "execution_count": null,
      "metadata": {
        "id": "udtkZhXtHPzT"
      },
      "outputs": [],
      "source": [
        "!pip install stable-baselines3 sb3-contrib"
      ]
    },
    {
      "cell_type": "code",
      "execution_count": null,
      "metadata": {
        "colab": {
          "background_save": true
        },
        "id": "U4rgFSKgHO7a",
        "outputId": "cb8a3b36-9eda-4467-9193-cff7e4a7328c"
      },
      "outputs": [
        {
          "name": "stdout",
          "output_type": "stream",
          "text": [
            "Using cpu device\n",
            "Creating environment from the given name 'HalfCheetah-v2'\n",
            "Wrapping the env with a `Monitor` wrapper\n",
            "Wrapping the env in a DummyVecEnv.\n",
            "---------------------------------\n",
            "| rollout/           |          |\n",
            "|    ep_len_mean     | 1e+03    |\n",
            "|    ep_rew_mean     | -262     |\n",
            "| time/              |          |\n",
            "|    episodes        | 4        |\n",
            "|    fps             | 23       |\n",
            "|    time_elapsed    | 166      |\n",
            "|    total_timesteps | 4000     |\n",
            "| train/             |          |\n",
            "|    actor_loss      | -32      |\n",
            "|    critic_loss     | 0.327    |\n",
            "|    ent_coef        | 0.313    |\n",
            "|    ent_coef_loss   | -11.1    |\n",
            "|    learning_rate   | 0.0003   |\n",
            "|    n_updates       | 3899     |\n",
            "---------------------------------\n",
            "---------------------------------\n",
            "| rollout/           |          |\n",
            "|    ep_len_mean     | 1e+03    |\n",
            "|    ep_rew_mean     | -218     |\n",
            "| time/              |          |\n",
            "|    episodes        | 8        |\n",
            "|    fps             | 23       |\n",
            "|    time_elapsed    | 336      |\n",
            "|    total_timesteps | 8000     |\n",
            "| train/             |          |\n",
            "|    actor_loss      | -33.4    |\n",
            "|    critic_loss     | 0.322    |\n",
            "|    ent_coef        | 0.1      |\n",
            "|    ent_coef_loss   | -17.2    |\n",
            "|    learning_rate   | 0.0003   |\n",
            "|    n_updates       | 7899     |\n",
            "---------------------------------\n",
            "---------------------------------\n",
            "| rollout/           |          |\n",
            "|    ep_len_mean     | 1e+03    |\n",
            "|    ep_rew_mean     | -182     |\n",
            "| time/              |          |\n",
            "|    episodes        | 12       |\n",
            "|    fps             | 23       |\n",
            "|    time_elapsed    | 506      |\n",
            "|    total_timesteps | 12000    |\n",
            "| train/             |          |\n",
            "|    actor_loss      | -29.2    |\n",
            "|    critic_loss     | 0.291    |\n",
            "|    ent_coef        | 0.0346   |\n",
            "|    ent_coef_loss   | -13      |\n",
            "|    learning_rate   | 0.0003   |\n",
            "|    n_updates       | 11899    |\n",
            "---------------------------------\n",
            "---------------------------------\n",
            "| rollout/           |          |\n",
            "|    ep_len_mean     | 1e+03    |\n",
            "|    ep_rew_mean     | -169     |\n",
            "| time/              |          |\n",
            "|    episodes        | 16       |\n",
            "|    fps             | 23       |\n",
            "|    time_elapsed    | 678      |\n",
            "|    total_timesteps | 16000    |\n",
            "| train/             |          |\n",
            "|    actor_loss      | -24.1    |\n",
            "|    critic_loss     | 0.334    |\n",
            "|    ent_coef        | 0.0146   |\n",
            "|    ent_coef_loss   | -5.21    |\n",
            "|    learning_rate   | 0.0003   |\n",
            "|    n_updates       | 15899    |\n",
            "---------------------------------\n",
            "---------------------------------\n",
            "| rollout/           |          |\n",
            "|    ep_len_mean     | 1e+03    |\n",
            "|    ep_rew_mean     | -132     |\n",
            "| time/              |          |\n",
            "|    episodes        | 20       |\n",
            "|    fps             | 23       |\n",
            "|    time_elapsed    | 849      |\n",
            "|    total_timesteps | 20000    |\n",
            "| train/             |          |\n",
            "|    actor_loss      | -20.3    |\n",
            "|    critic_loss     | 0.28     |\n",
            "|    ent_coef        | 0.00933  |\n",
            "|    ent_coef_loss   | -1.15    |\n",
            "|    learning_rate   | 0.0003   |\n",
            "|    n_updates       | 19899    |\n",
            "---------------------------------\n",
            "---------------------------------\n",
            "| rollout/           |          |\n",
            "|    ep_len_mean     | 1e+03    |\n",
            "|    ep_rew_mean     | -48.4    |\n",
            "| time/              |          |\n",
            "|    episodes        | 24       |\n",
            "|    fps             | 23       |\n",
            "|    time_elapsed    | 1017     |\n",
            "|    total_timesteps | 24000    |\n",
            "| train/             |          |\n",
            "|    actor_loss      | -19.2    |\n",
            "|    critic_loss     | 0.298    |\n",
            "|    ent_coef        | 0.00962  |\n",
            "|    ent_coef_loss   | 2.88     |\n",
            "|    learning_rate   | 0.0003   |\n",
            "|    n_updates       | 23899    |\n",
            "---------------------------------\n",
            "---------------------------------\n",
            "| rollout/           |          |\n",
            "|    ep_len_mean     | 1e+03    |\n",
            "|    ep_rew_mean     | 114      |\n",
            "| time/              |          |\n",
            "|    episodes        | 28       |\n",
            "|    fps             | 23       |\n",
            "|    time_elapsed    | 1186     |\n",
            "|    total_timesteps | 28000    |\n",
            "| train/             |          |\n",
            "|    actor_loss      | -21.7    |\n",
            "|    critic_loss     | 0.394    |\n",
            "|    ent_coef        | 0.0146   |\n",
            "|    ent_coef_loss   | -1.16    |\n",
            "|    learning_rate   | 0.0003   |\n",
            "|    n_updates       | 27899    |\n",
            "---------------------------------\n",
            "---------------------------------\n",
            "| rollout/           |          |\n",
            "|    ep_len_mean     | 1e+03    |\n",
            "|    ep_rew_mean     | 250      |\n",
            "| time/              |          |\n",
            "|    episodes        | 32       |\n",
            "|    fps             | 23       |\n",
            "|    time_elapsed    | 1356     |\n",
            "|    total_timesteps | 32000    |\n",
            "| train/             |          |\n",
            "|    actor_loss      | -25.6    |\n",
            "|    critic_loss     | 0.477    |\n",
            "|    ent_coef        | 0.0198   |\n",
            "|    ent_coef_loss   | -0.349   |\n",
            "|    learning_rate   | 0.0003   |\n",
            "|    n_updates       | 31899    |\n",
            "---------------------------------\n",
            "---------------------------------\n",
            "| rollout/           |          |\n",
            "|    ep_len_mean     | 1e+03    |\n",
            "|    ep_rew_mean     | 458      |\n",
            "| time/              |          |\n",
            "|    episodes        | 36       |\n",
            "|    fps             | 23       |\n",
            "|    time_elapsed    | 1525     |\n",
            "|    total_timesteps | 36000    |\n",
            "| train/             |          |\n",
            "|    actor_loss      | -33.7    |\n",
            "|    critic_loss     | 0.577    |\n",
            "|    ent_coef        | 0.0264   |\n",
            "|    ent_coef_loss   | -0.321   |\n",
            "|    learning_rate   | 0.0003   |\n",
            "|    n_updates       | 35899    |\n",
            "---------------------------------\n",
            "---------------------------------\n",
            "| rollout/           |          |\n",
            "|    ep_len_mean     | 1e+03    |\n",
            "|    ep_rew_mean     | 587      |\n",
            "| time/              |          |\n",
            "|    episodes        | 40       |\n",
            "|    fps             | 23       |\n",
            "|    time_elapsed    | 1695     |\n",
            "|    total_timesteps | 40000    |\n",
            "| train/             |          |\n",
            "|    actor_loss      | -47      |\n",
            "|    critic_loss     | 0.72     |\n",
            "|    ent_coef        | 0.0312   |\n",
            "|    ent_coef_loss   | -0.0963  |\n",
            "|    learning_rate   | 0.0003   |\n",
            "|    n_updates       | 39899    |\n",
            "---------------------------------\n",
            "---------------------------------\n",
            "| rollout/           |          |\n",
            "|    ep_len_mean     | 1e+03    |\n",
            "|    ep_rew_mean     | 702      |\n",
            "| time/              |          |\n",
            "|    episodes        | 44       |\n",
            "|    fps             | 23       |\n",
            "|    time_elapsed    | 1865     |\n",
            "|    total_timesteps | 44000    |\n",
            "| train/             |          |\n",
            "|    actor_loss      | -52.2    |\n",
            "|    critic_loss     | 0.71     |\n",
            "|    ent_coef        | 0.0333   |\n",
            "|    ent_coef_loss   | 0.755    |\n",
            "|    learning_rate   | 0.0003   |\n",
            "|    n_updates       | 43899    |\n",
            "---------------------------------\n",
            "---------------------------------\n",
            "| rollout/           |          |\n",
            "|    ep_len_mean     | 1e+03    |\n",
            "|    ep_rew_mean     | 836      |\n",
            "| time/              |          |\n",
            "|    episodes        | 48       |\n",
            "|    fps             | 23       |\n",
            "|    time_elapsed    | 2035     |\n",
            "|    total_timesteps | 48000    |\n",
            "| train/             |          |\n",
            "|    actor_loss      | -58.3    |\n",
            "|    critic_loss     | 0.766    |\n",
            "|    ent_coef        | 0.0341   |\n",
            "|    ent_coef_loss   | -1.4     |\n",
            "|    learning_rate   | 0.0003   |\n",
            "|    n_updates       | 47899    |\n",
            "---------------------------------\n",
            "---------------------------------\n",
            "| rollout/           |          |\n",
            "|    ep_len_mean     | 1e+03    |\n",
            "|    ep_rew_mean     | 972      |\n",
            "| time/              |          |\n",
            "|    episodes        | 52       |\n",
            "|    fps             | 23       |\n",
            "|    time_elapsed    | 2207     |\n",
            "|    total_timesteps | 52000    |\n",
            "| train/             |          |\n",
            "|    actor_loss      | -75.5    |\n",
            "|    critic_loss     | 0.867    |\n",
            "|    ent_coef        | 0.0368   |\n",
            "|    ent_coef_loss   | 0.877    |\n",
            "|    learning_rate   | 0.0003   |\n",
            "|    n_updates       | 51899    |\n",
            "---------------------------------\n",
            "---------------------------------\n",
            "| rollout/           |          |\n",
            "|    ep_len_mean     | 1e+03    |\n",
            "|    ep_rew_mean     | 1.1e+03  |\n",
            "| time/              |          |\n",
            "|    episodes        | 56       |\n",
            "|    fps             | 23       |\n",
            "|    time_elapsed    | 2378     |\n",
            "|    total_timesteps | 56000    |\n",
            "| train/             |          |\n",
            "|    actor_loss      | -81.3    |\n",
            "|    critic_loss     | 0.9      |\n",
            "|    ent_coef        | 0.0396   |\n",
            "|    ent_coef_loss   | -0.578   |\n",
            "|    learning_rate   | 0.0003   |\n",
            "|    n_updates       | 55899    |\n",
            "---------------------------------\n",
            "---------------------------------\n",
            "| rollout/           |          |\n",
            "|    ep_len_mean     | 1e+03    |\n",
            "|    ep_rew_mean     | 1.2e+03  |\n",
            "| time/              |          |\n",
            "|    episodes        | 60       |\n",
            "|    fps             | 23       |\n",
            "|    time_elapsed    | 2548     |\n",
            "|    total_timesteps | 60000    |\n",
            "| train/             |          |\n",
            "|    actor_loss      | -91.7    |\n",
            "|    critic_loss     | 0.906    |\n",
            "|    ent_coef        | 0.0428   |\n",
            "|    ent_coef_loss   | 0.49     |\n",
            "|    learning_rate   | 0.0003   |\n",
            "|    n_updates       | 59899    |\n",
            "---------------------------------\n",
            "---------------------------------\n",
            "| rollout/           |          |\n",
            "|    ep_len_mean     | 1e+03    |\n",
            "|    ep_rew_mean     | 1.26e+03 |\n",
            "| time/              |          |\n",
            "|    episodes        | 64       |\n",
            "|    fps             | 23       |\n",
            "|    time_elapsed    | 2717     |\n",
            "|    total_timesteps | 64000    |\n",
            "| train/             |          |\n",
            "|    actor_loss      | -98.5    |\n",
            "|    critic_loss     | 0.85     |\n",
            "|    ent_coef        | 0.0433   |\n",
            "|    ent_coef_loss   | -0.0537  |\n",
            "|    learning_rate   | 0.0003   |\n",
            "|    n_updates       | 63899    |\n",
            "---------------------------------\n",
            "---------------------------------\n",
            "| rollout/           |          |\n",
            "|    ep_len_mean     | 1e+03    |\n",
            "|    ep_rew_mean     | 1.35e+03 |\n",
            "| time/              |          |\n",
            "|    episodes        | 68       |\n",
            "|    fps             | 23       |\n",
            "|    time_elapsed    | 2888     |\n",
            "|    total_timesteps | 68000    |\n",
            "| train/             |          |\n",
            "|    actor_loss      | -98.1    |\n",
            "|    critic_loss     | 0.815    |\n",
            "|    ent_coef        | 0.046    |\n",
            "|    ent_coef_loss   | -1.89    |\n",
            "|    learning_rate   | 0.0003   |\n",
            "|    n_updates       | 67899    |\n",
            "---------------------------------\n",
            "---------------------------------\n",
            "| rollout/           |          |\n",
            "|    ep_len_mean     | 1e+03    |\n",
            "|    ep_rew_mean     | 1.42e+03 |\n",
            "| time/              |          |\n",
            "|    episodes        | 72       |\n",
            "|    fps             | 23       |\n",
            "|    time_elapsed    | 3059     |\n",
            "|    total_timesteps | 72000    |\n",
            "| train/             |          |\n",
            "|    actor_loss      | -126     |\n",
            "|    critic_loss     | 0.972    |\n",
            "|    ent_coef        | 0.0487   |\n",
            "|    ent_coef_loss   | 2.96     |\n",
            "|    learning_rate   | 0.0003   |\n",
            "|    n_updates       | 71899    |\n",
            "---------------------------------\n",
            "---------------------------------\n",
            "| rollout/           |          |\n",
            "|    ep_len_mean     | 1e+03    |\n",
            "|    ep_rew_mean     | 1.53e+03 |\n",
            "| time/              |          |\n",
            "|    episodes        | 76       |\n",
            "|    fps             | 23       |\n",
            "|    time_elapsed    | 3230     |\n",
            "|    total_timesteps | 76000    |\n",
            "| train/             |          |\n",
            "|    actor_loss      | -126     |\n",
            "|    critic_loss     | 0.99     |\n",
            "|    ent_coef        | 0.0518   |\n",
            "|    ent_coef_loss   | -1.12    |\n",
            "|    learning_rate   | 0.0003   |\n",
            "|    n_updates       | 75899    |\n",
            "---------------------------------\n",
            "---------------------------------\n",
            "| rollout/           |          |\n",
            "|    ep_len_mean     | 1e+03    |\n",
            "|    ep_rew_mean     | 1.63e+03 |\n",
            "| time/              |          |\n",
            "|    episodes        | 80       |\n",
            "|    fps             | 23       |\n",
            "|    time_elapsed    | 3402     |\n",
            "|    total_timesteps | 80000    |\n",
            "| train/             |          |\n",
            "|    actor_loss      | -138     |\n",
            "|    critic_loss     | 0.985    |\n",
            "|    ent_coef        | 0.0554   |\n",
            "|    ent_coef_loss   | -1.27    |\n",
            "|    learning_rate   | 0.0003   |\n",
            "|    n_updates       | 79899    |\n",
            "---------------------------------\n",
            "---------------------------------\n",
            "| rollout/           |          |\n",
            "|    ep_len_mean     | 1e+03    |\n",
            "|    ep_rew_mean     | 1.74e+03 |\n",
            "| time/              |          |\n",
            "|    episodes        | 84       |\n",
            "|    fps             | 23       |\n",
            "|    time_elapsed    | 3574     |\n",
            "|    total_timesteps | 84000    |\n",
            "| train/             |          |\n",
            "|    actor_loss      | -152     |\n",
            "|    critic_loss     | 1.05     |\n",
            "|    ent_coef        | 0.0597   |\n",
            "|    ent_coef_loss   | -0.847   |\n",
            "|    learning_rate   | 0.0003   |\n",
            "|    n_updates       | 83899    |\n",
            "---------------------------------\n"
          ]
        }
      ],
      "source": [
        "from sb3_contrib import TQC\n",
        "\n",
        "model = TQC(\"MlpPolicy\", \"HalfCheetah-v2\", verbose=1).learn(500_000)"
      ]
    },
    {
      "cell_type": "code",
      "execution_count": null,
      "metadata": {
        "id": "IjijWCY6HqaC"
      },
      "outputs": [],
      "source": [
        ""
      ]
    }
  ],
  "metadata": {
    "accelerator": "GPU",
    "colab": {
      "collapsed_sections": [],
      "name": "free_mujoco.ipynb",
      "provenance": [],
      "include_colab_link": true
    },
    "kernelspec": {
      "display_name": "Python 3",
      "name": "python3"
    },
    "language_info": {
      "name": "python"
    }
  },
  "nbformat": 4,
  "nbformat_minor": 0
}